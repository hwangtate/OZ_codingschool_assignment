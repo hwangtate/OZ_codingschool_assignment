{
 "cells": [
  {
   "cell_type": "code",
   "execution_count": 111,
   "metadata": {},
   "outputs": [],
   "source": [
    "from selenium import webdriver\n",
    "from webdriver_manager.chrome import ChromeDriverManager\n",
    "from selenium.webdriver.common.by import By\n",
    "\n",
    "ChromeDriverManager().install()\n",
    "browser = webdriver.Chrome()\n"
   ]
  },
  {
   "cell_type": "code",
   "execution_count": 107,
   "metadata": {},
   "outputs": [],
   "source": [
    "\n",
    "url = 'https://www.yes24.com/Product/Category/BestSeller?CategoryNumber=001&sumgb=06'\n",
    "browser.get(url)\n",
    "\n",
    "# from selenium.webdriver.common.by import By\n",
    "# browser.find_element(By.CLASS_NAME, 'uU7dJb').text"
   ]
  },
  {
   "cell_type": "code",
   "execution_count": 39,
   "metadata": {},
   "outputs": [
    {
     "name": "stdout",
     "output_type": "stream",
     "text": [
      "하루 한 장 나의 어휘력을 위한 필사 노트\n",
      "너에게 들려주는 단단한 말\n",
      "불변의 법칙\n",
      "2024 큰별쌤 최태성의 별별한국사 한국사능력검정시험 심화(1,2,3급) 상\n",
      "내 몸 혁명\n",
      "그의 운명에 대한 아주 개인적인 생각\n",
      "죽이고 싶은 아이 2\n",
      "언젠가 우리가 같은 별을 바라본다면\n",
      "2024 큰별쌤 최태성의 별별한국사 한국사능력검정시험 심화(1,2,3급) 하\n",
      "세이노의 가르침\n",
      "ETS 토익 정기시험 기출문제집 1000 Vol. 4 RC\n",
      "ETS 토익 정기시험 기출문제집 1000 Vol. 4 LC\n",
      "신화의 숲\n",
      "허송세월\n",
      "THE MONEY BOOK 더 머니북\n",
      "나를 소모하지 않는 현명한 태도에 관하여\n",
      "나는 다정한 관찰자가 되기로 했다\n",
      "초역 부처의 말\n",
      "2024 큰별쌤 최태성의 별별한국사 기출 500제 한국사능력검정시험 심화 (1,2,3급)\n",
      "모순\n",
      "꽃길이 따로 있나, 내 삶이 꽃인 것을\n",
      "마흔에 읽는 쇼펜하우어 (200쇄 기념 확장판)\n",
      "돈의 심리학 (30만 부 기념 스페셜 에디션)\n",
      "나는 메트로폴리탄 미술관의 경비원입니다\n"
     ]
    }
   ],
   "source": [
    "# 한 개의 베스트 셀러 링크 수집\n",
    "browser.find_element(By.CLASS_NAME, 'gd_name').get_attribute('href')\n",
    "\n",
    "# 1페이지의 베스트 셀러 전체 링크 수집\n",
    "datas = browser.find_elements(By.CLASS_NAME, 'gd_name')\n",
    "\n",
    "for i in datas:\n",
    "    print(i.text)"
   ]
  },
  {
   "cell_type": "code",
   "execution_count": 112,
   "metadata": {},
   "outputs": [
    {
     "name": "stdout",
     "output_type": "stream",
     "text": [
      "========== 현재 1 페이지 입니다. ==========\n",
      "페이지가 끝났습니다.\n",
      "========== 현재 2 페이지 입니다. ==========\n",
      "페이지가 끝났습니다.\n",
      "========== 현재 3 페이지 입니다. ==========\n",
      "페이지가 끝났습니다.\n",
      "['https://www.yes24.com/Product/Goods/125557465', 'https://www.yes24.com/Product/Goods/128266166', 'https://www.yes24.com/Product/Goods/124999476', 'https://www.yes24.com/Product/Goods/123930880', 'https://www.yes24.com/Product/Goods/124225606', 'https://www.yes24.com/Product/Goods/127094902', 'https://www.yes24.com/Product/Goods/128133897', 'https://www.yes24.com/Product/Goods/104663596', 'https://www.yes24.com/Product/Goods/123930891', 'https://www.yes24.com/Product/Goods/117014613', 'https://www.yes24.com/Product/Goods/124043812', 'https://www.yes24.com/Product/Goods/124043802', 'https://www.yes24.com/Product/Goods/126511412', 'https://www.yes24.com/Product/Goods/126845471', 'https://www.yes24.com/Product/Goods/126702038', 'https://www.yes24.com/Product/Goods/125295101', 'https://www.yes24.com/Product/Goods/126516935', 'https://www.yes24.com/Product/Goods/126590468', 'https://www.yes24.com/Product/Goods/124539805', 'https://www.yes24.com/Product/Goods/8759796', 'https://www.yes24.com/Product/Goods/125576919', 'https://www.yes24.com/Product/Goods/122120495', 'https://www.yes24.com/Product/Goods/96547408', 'https://www.yes24.com/Product/Goods/123675187', 'https://www.yes24.com/Product/Goods/125992096', 'https://www.yes24.com/Product/Goods/128913049', 'https://www.yes24.com/Product/Goods/125969665', 'https://www.yes24.com/Product/Goods/67362730', 'https://www.yes24.com/Product/Goods/129043527', 'https://www.yes24.com/Product/Goods/124702605', 'https://www.yes24.com/Product/Goods/127050264', 'https://www.yes24.com/Product/Goods/128251777', 'https://www.yes24.com/Product/Goods/127098745', 'https://www.yes24.com/Product/Goods/101864763', 'https://www.yes24.com/Product/Goods/128196803', 'https://www.yes24.com/Product/Goods/128710948', 'https://www.yes24.com/Product/Goods/128218178', 'https://www.yes24.com/Product/Goods/128829285', 'https://www.yes24.com/Product/Goods/28995741', 'https://www.yes24.com/Product/Goods/121826324', 'https://www.yes24.com/Product/Goods/128917300', 'https://www.yes24.com/Product/Goods/7320104', 'https://www.yes24.com/Product/Goods/126670771', 'https://www.yes24.com/Product/Goods/128182633', 'https://www.yes24.com/Product/Goods/128869555', 'https://www.yes24.com/Product/Goods/124219505', 'https://www.yes24.com/Product/Goods/128869414', 'https://www.yes24.com/Product/Goods/127095422', 'https://www.yes24.com/Product/Goods/128702347', 'https://www.yes24.com/Product/Goods/122090360', 'https://www.yes24.com/Product/Goods/28995747', 'https://www.yes24.com/Product/Goods/127095428', 'https://www.yes24.com/Product/Goods/128849999', 'https://www.yes24.com/Product/Goods/123400303', 'https://www.yes24.com/Product/Goods/127086686', 'https://www.yes24.com/Product/Goods/127012688', 'https://www.yes24.com/Product/Goods/91868954', 'https://www.yes24.com/Product/Goods/128869569', 'https://www.yes24.com/Product/Goods/125384743', 'https://www.yes24.com/Product/Goods/116467955', 'https://www.yes24.com/Product/Goods/127044545', 'https://www.yes24.com/Product/Goods/125448202', 'https://www.yes24.com/Product/Goods/125971089', 'https://www.yes24.com/Product/Goods/125806618', 'https://www.yes24.com/Product/Goods/119458052', 'https://www.yes24.com/Product/Goods/118578901', 'https://www.yes24.com/Product/Goods/121911671', 'https://www.yes24.com/Product/Goods/117933045', 'https://www.yes24.com/Product/Goods/127047306', 'https://www.yes24.com/Product/Goods/2312211', 'https://www.yes24.com/Product/Goods/124489429', 'https://www.yes24.com/Product/Goods/125117836']\n"
     ]
    }
   ],
   "source": [
    "#3페이지까지의 데이터 제목 크롤링\n",
    "\n",
    "browser = webdriver.Chrome()\n",
    "\n",
    "link_list = []\n",
    "\n",
    "for i in range(1,4):\n",
    "    print(\"=\" * 10,f\"현재 {i} 페이지 입니다.\", \"=\" * 10)\n",
    "    url = f'https://www.yes24.com/Product/Category/BestSeller?categoryNumber=001&pageNumber={i}&pageSize=24'\n",
    "    browser.get(url)\n",
    "\n",
    "    datas = browser.find_elements(By.CLASS_NAME, 'gd_name')\n",
    "\n",
    "    for i in datas:\n",
    "        link = i.get_attribute('href')\n",
    "\n",
    "        link_list.append(link)\n",
    "        # print(i.text)\n",
    "\n",
    "    print(f\"페이지가 끝났습니다.\")\n",
    "\n",
    "print(link_list)\n"
   ]
  },
  {
   "cell_type": "code",
   "execution_count": 123,
   "metadata": {},
   "outputs": [
    {
     "data": {
      "text/plain": [
       "('1', '1')"
      ]
     },
     "execution_count": 123,
     "metadata": {},
     "output_type": "execute_result"
    }
   ],
   "source": [
    "# for link in link_list:\n",
    "#     browser.get(link)\n",
    "\n",
    "browser.get(link_list[0])\n",
    "\n",
    "title = browser.find_element(By.CLASS_NAME, 'gd_name').text\n",
    "author = browser.find_element(By.CLASS_NAME, 'gd_auth').text\n",
    "publisher = browser.find_element(By.CLASS_NAME, 'gd_pub').text\n",
    "publishing = browser.find_element(By.CLASS_NAME, 'gd_date').text\n",
    "rating = browser.find_element(By.CLASS_NAME, 'yes_b').text\n",
    "review = browser.find_element(By.CLASS_NAME, 'txC_blue').text\n",
    "sales = browser.find_element(By.CLASS_NAME, 'gd_sellNum').text.split(' ')[2]\n",
    "price = browser.find_element(By.CLASS_NAME, 'yes_m').text[:-1]\n",
    "ranking = browser.find_element(By.CLASS_NAME, 'gd_best').find_element(By.TAG_NAME, 'a').text.split(' ')[-1].split('위')[0]\n",
    "ranking_weeks = browser.find_element(By.CLASS_NAME, 'gd_best').text.split(' | ')[1].split(' ')[2].split('주')[0]\n",
    "\n",
    "ranking, ranking_weeks"
   ]
  },
  {
   "cell_type": "code",
   "execution_count": 1,
   "metadata": {},
   "outputs": [
    {
     "ename": "NameError",
     "evalue": "name 'link_list' is not defined",
     "output_type": "error",
     "traceback": [
      "\u001b[0;31m---------------------------------------------------------------------------\u001b[0m",
      "\u001b[0;31mNameError\u001b[0m                                 Traceback (most recent call last)",
      "Cell \u001b[0;32mIn[1], line 18\u001b[0m\n\u001b[1;32m      7\u001b[0m connection \u001b[38;5;241m=\u001b[39m pymysql\u001b[38;5;241m.\u001b[39mconnect(\n\u001b[1;32m      8\u001b[0m     host \u001b[38;5;241m=\u001b[39m \u001b[38;5;124m'\u001b[39m\u001b[38;5;124mlocalhost\u001b[39m\u001b[38;5;124m'\u001b[39m,\n\u001b[1;32m      9\u001b[0m     user \u001b[38;5;241m=\u001b[39m \u001b[38;5;124m'\u001b[39m\u001b[38;5;124mroot\u001b[39m\u001b[38;5;124m'\u001b[39m,\n\u001b[0;32m   (...)\u001b[0m\n\u001b[1;32m     13\u001b[0m     cursorclass\u001b[38;5;241m=\u001b[39m pymysql\u001b[38;5;241m.\u001b[39mcursors\u001b[38;5;241m.\u001b[39mDictCursor\n\u001b[1;32m     14\u001b[0m )\n\u001b[1;32m     16\u001b[0m \u001b[38;5;28;01mwith\u001b[39;00m connection\u001b[38;5;241m.\u001b[39mcursor() \u001b[38;5;28;01mas\u001b[39;00m cursor:\n\u001b[0;32m---> 18\u001b[0m     \u001b[38;5;28;01mfor\u001b[39;00m link \u001b[38;5;129;01min\u001b[39;00m \u001b[43mlink_list\u001b[49m:\n\u001b[1;32m     20\u001b[0m         browser\u001b[38;5;241m.\u001b[39mget(link)\n\u001b[1;32m     22\u001b[0m         title \u001b[38;5;241m=\u001b[39m browser\u001b[38;5;241m.\u001b[39mfind_element(By\u001b[38;5;241m.\u001b[39mCLASS_NAME, \u001b[38;5;124m'\u001b[39m\u001b[38;5;124mgd_name\u001b[39m\u001b[38;5;124m'\u001b[39m)\u001b[38;5;241m.\u001b[39mtext\n",
      "\u001b[0;31mNameError\u001b[0m: name 'link_list' is not defined"
     ]
    }
   ],
   "source": [
    "#데이터 베이스 연동 후 -> DB에 저장\n",
    "import pymysql\n",
    "import pymysql.cursors\n",
    "import time\n",
    "import re\n",
    "from datetime import datetime\n",
    "connection = pymysql.connect(\n",
    "    host = 'localhost',\n",
    "    user = 'root',\n",
    "    password = '1025',\n",
    "    db = 'yes24',\n",
    "    charset= 'utf8mb4',\n",
    "    cursorclass= pymysql.cursors.DictCursor\n",
    ")\n",
    "\n",
    "with connection.cursor() as cursor:\n",
    "    \n",
    "    for link in link_list:\n",
    "\n",
    "        browser.get(link)\n",
    "\n",
    "        title = browser.find_element(By.CLASS_NAME, 'gd_name').text\n",
    "        author = browser.find_element(By.CLASS_NAME, 'gd_auth').text\n",
    "        publisher = browser.find_element(By.CLASS_NAME, 'gd_pub').text\n",
    "\n",
    "        publishing = browser.find_element(By.CLASS_NAME, 'gd_date').text\n",
    "        match = re.search(r'(\\d+)년 (\\d+)월 (\\d+)일',  publishing)\n",
    "        if match:\n",
    "            year, month, day = match.groups()\n",
    "            date_obj = datetime(int(year), int(month), int(day))\n",
    "            publishing = date_obj.strftime(\"%Y-%m-%d\")\n",
    "        else:\n",
    "            publishing = '2024-01-01'\n",
    "\n",
    "        rating = browser.find_element(By.CLASS_NAME, 'yes_b').text\n",
    "        review = browser.find_element(By.CLASS_NAME, 'txC_blue').text\n",
    "        review = int(review.replace(\",\", \"\"))\n",
    "\n",
    "        sales = browser.find_element(By.CLASS_NAME, 'gd_sellNum').text.split(' ')[2]\n",
    "        sales = int(sales.replace(\",\", \"\"))\n",
    "\n",
    "        price = browser.find_element(By.CLASS_NAME, 'yes_m').text[:-1]\n",
    "        price = int(price.replace(\",\", \"\"))\n",
    "        try:\n",
    "            ranking = browser.find_element(By.CLASS_NAME, 'gd_best').find_element(By.TAG_NAME, 'a').text.split(' ')[-1].split('위')[0]\n",
    "            ranking_weeks = browser.find_element(By.CLASS_NAME, 'gd_best').text.split(' | ')[1].split(' ')[2].split('주')[0]\n",
    "            ranking = int(ranking)\n",
    "            ranking_weeks = int(ranking_weeks)\n",
    "        except:\n",
    "            ranking = 0\n",
    "            ranking_weeks = 0\n",
    "\n",
    "        sql = \"\"\"\n",
    "        INSERT INTO Books(title, author, publisher, publishing, rating, review, sales, price, ranking, ranking_weeks)\n",
    "        VALUES (%s, %s, %s, %s, %s, %s, %s, %s, %s, %s)\n",
    "        \"\"\"\n",
    "\n",
    "        cursor.execute(sql, (title, author, publisher, publishing, rating, review, sales, price, ranking, ranking_weeks))\n",
    "        connection.commit()\n",
    "        time.sleep(0.2)\n",
    "\n"
   ]
  },
  {
   "cell_type": "code",
   "execution_count": null,
   "metadata": {},
   "outputs": [],
   "source": [
    "#상세 페이지 이동 후 데이터 크롤링"
   ]
  }
 ],
 "metadata": {
  "kernelspec": {
   "display_name": ".venv",
   "language": "python",
   "name": "python3"
  },
  "language_info": {
   "codemirror_mode": {
    "name": "ipython",
    "version": 3
   },
   "file_extension": ".py",
   "mimetype": "text/x-python",
   "name": "python",
   "nbconvert_exporter": "python",
   "pygments_lexer": "ipython3",
   "version": "3.12.4"
  }
 },
 "nbformat": 4,
 "nbformat_minor": 2
}
