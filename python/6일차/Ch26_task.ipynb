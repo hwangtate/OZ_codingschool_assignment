{
 "cells": [
  {
   "cell_type": "markdown",
   "metadata": {},
   "source": [
    "0부터 시작하여 n까지의 숫자 중에서 홀수만 생성하는 제너레이터 odd_numbers를 작성하세요."
   ]
  },
  {
   "cell_type": "code",
   "execution_count": 18,
   "metadata": {},
   "outputs": [
    {
     "name": "stdout",
     "output_type": "stream",
     "text": [
      "{1, 3, 5, 7, 9, 11, 13, 15, 17}\n"
     ]
    }
   ],
   "source": [
    "def odd_numbers(n : int):\n",
    "    n += 2\n",
    "\n",
    "    value = []\n",
    "\n",
    "    value += range(0,n)\n",
    "\n",
    "    holsu = []\n",
    "\n",
    "    holsu += range(1,n,2)\n",
    "\n",
    "    print(set(value) & set(holsu))\n",
    "\n",
    "    yield\n",
    "\n",
    "a = odd_numbers(16)\n",
    "\n",
    "next(a)\n",
    "\n",
    "#ㅋㅋㅋ 제너레이터로 만들라고 하시긴 하셨는데 어떻게 해야될지 감이 안잡혀서 일단 제너레이터 함수로는 만들긴 했습니다...\n",
    "#주말에 더 공부해볼게용"
   ]
  }
 ],
 "metadata": {
  "kernelspec": {
   "display_name": "Python 3",
   "language": "python",
   "name": "python3"
  },
  "language_info": {
   "codemirror_mode": {
    "name": "ipython",
    "version": 3
   },
   "file_extension": ".py",
   "mimetype": "text/x-python",
   "name": "python",
   "nbconvert_exporter": "python",
   "pygments_lexer": "ipython3",
   "version": "3.9.6"
  }
 },
 "nbformat": 4,
 "nbformat_minor": 2
}
