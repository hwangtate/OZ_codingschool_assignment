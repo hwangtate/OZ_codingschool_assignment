{
 "cells": [
  {
   "cell_type": "markdown",
   "metadata": {},
   "source": [
    "사용자로부터 3개의 숫자를 입력받아, 이를 튜플로 만든 후 최소값과 최대값을 출력하는 함수 min_max를 작성하세요."
   ]
  },
  {
   "cell_type": "code",
   "execution_count": 4,
   "metadata": {},
   "outputs": [
    {
     "name": "stdout",
     "output_type": "stream",
     "text": [
      "최댓값 : 10\n",
      "최솟값 : 1\n"
     ]
    }
   ],
   "source": [
    "a, b, c = map(int, input(\"3개의 숫자를 띄워서 입력해주세요 : \").split(' '))\n",
    "\n",
    "obj = (a, b, c)\n",
    "\n",
    "def min_max(obj : tuple) -> str:\n",
    "    print(f\"최댓값 : {max(obj)}\")\n",
    "    print(f\"최솟값 : {min(obj)}\")\n",
    "\n",
    "min_max(obj)\n"
   ]
  }
 ],
 "metadata": {
  "kernelspec": {
   "display_name": "Python 3",
   "language": "python",
   "name": "python3"
  },
  "language_info": {
   "codemirror_mode": {
    "name": "ipython",
    "version": 3
   },
   "file_extension": ".py",
   "mimetype": "text/x-python",
   "name": "python",
   "nbconvert_exporter": "python",
   "pygments_lexer": "ipython3",
   "version": "3.9.6"
  }
 },
 "nbformat": 4,
 "nbformat_minor": 2
}
