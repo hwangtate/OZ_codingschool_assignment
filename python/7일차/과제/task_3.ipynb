{
 "cells": [
  {
   "cell_type": "markdown",
   "metadata": {},
   "source": [
    "사용자로부터 여러 개의 숫자를 입력받아 리스트에 저장한 후, 사용자가 'done'이라고 입력할 때까지 계속 입력받으세요. \n",
    "\n",
    "- 입력 중 숫자가 아닌 값이 입력되면 ValueError를 처리\n",
    "- 숫자 외 값이 입력된 경우 어떤 값이 잘못 입력되었는지 사용자에게 알려주는 문구 출력<br>\n",
    "  (예: f\"잘못된 값: {변수}. 숫자를 입력해주세요.\")\n",
    "\n"
   ]
  },
  {
   "cell_type": "code",
   "execution_count": 30,
   "metadata": {},
   "outputs": [
    {
     "name": "stdout",
     "output_type": "stream",
     "text": [
      "['1', '3', '5']\n",
      "['12', '']\n",
      "잘못된 값 : <> 숫자를 입력해주세요.\n",
      "['']\n",
      "잘못된 값 : <> 숫자를 입력해주세요.\n",
      "['12', '8']\n",
      "['12', '8', '']\n",
      "잘못된 값 : <> 숫자를 입력해주세요.\n",
      "['done']\n",
      "종료합니다.\n"
     ]
    }
   ],
   "source": [
    "num_list = []\n",
    "\n",
    "while True:\n",
    "    num_list = input().split(\" \")\n",
    "\n",
    "    print(num_list)\n",
    "\n",
    "    for i in num_list:\n",
    "\n",
    "        if i == \"done\":\n",
    "            print(f\"종료합니다.\")\n",
    "            break\n",
    "        elif not i.isdigit():\n",
    "            print(f\"잘못된 값 : <{i}> 숫자를 입력해주세요.\")\n",
    "\n",
    "    else:\n",
    "        continue\n",
    "\n",
    "\n",
    "    break"
   ]
  }
 ],
 "metadata": {
  "kernelspec": {
   "display_name": "Python 3",
   "language": "python",
   "name": "python3"
  },
  "language_info": {
   "codemirror_mode": {
    "name": "ipython",
    "version": 3
   },
   "file_extension": ".py",
   "mimetype": "text/x-python",
   "name": "python",
   "nbconvert_exporter": "python",
   "pygments_lexer": "ipython3",
   "version": "3.9.6"
  }
 },
 "nbformat": 4,
 "nbformat_minor": 2
}
